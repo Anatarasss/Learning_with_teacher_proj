{
 "cells": [
  {
   "cell_type": "markdown",
   "id": "acdc8fce",
   "metadata": {},
   "source": [
    "# **Проектная работа \"Отток клиентов\"**\n",
    "\n",
    "#### **Выполнил: студент когорты №15 DS+ Зубков О.В.**\n",
    "<a id=\"top\"></a>"
   ]
  },
  {
   "cell_type": "markdown",
   "id": "434024b5",
   "metadata": {},
   "source": [
    "[Ссылка на репозиторий на ГитХабе](https://github.com/Anatarasss/Learning_with_teacher_proj)"
   ]
  },
  {
   "cell_type": "markdown",
   "id": "678b81f4",
   "metadata": {},
   "source": [
    "\n",
    "### **Описание проекта**\n",
    "#### Исходные данные\n",
    "В распоряжение предоставлены исторические данные о поведении клиентов и расторжении договоров с банком.\n",
    "\n",
    "#### Задача\n",
    "Построить модель для задачи классификации, которая будет давать прогноз, уйдёт клиент из банка в ближайшее время или нет. Модель должна иметь предельно большое значение F1-меры, но не менее, чем 0.59. Произвести проверку значения F1-меру на тестовой выборке.\n",
    "\n",
    "Дополнительно производить измерение AUC-ROC и сравнивать её значения с F1-мерой.\n",
    "\n",
    "#### Ход исследования\n",
    "1. [Загрузка и подготовка данных](#data)\n",
    "\n",
    "2. [Исследование баланса классов, обучение модели без учёта дисбаланса.](#disbalance)\n",
    "\n",
    "3. [Улучшение качества модели.](#model)\n",
    "\n",
    "4. [Проведение финального тестирования.](#test)\n",
    "\n",
    "5. [Общие выводы.](#end)"
   ]
  },
  {
   "cell_type": "markdown",
   "id": "20947d7f",
   "metadata": {},
   "source": [
    "<a id=\"data\"></a>\n",
    "### Шаг 1. Загрузка и подготовка данных."
   ]
  },
  {
   "cell_type": "markdown",
   "id": "45defcf0",
   "metadata": {},
   "source": [
    "[в начало](#top)"
   ]
  },
  {
   "cell_type": "markdown",
   "id": "f6c9c973",
   "metadata": {},
   "source": [
    "Для начала импортируем библиотеки и функции некоторых библиотек, которые понадобятся в работе."
   ]
  },
  {
   "cell_type": "code",
   "execution_count": 1,
   "id": "25040747",
   "metadata": {},
   "outputs": [],
   "source": [
    "import pandas as pd\n",
    "import matplotlib.pyplot as plt\n",
    "\n",
    "from sklearn.model_selection import train_test_split\n",
    "from sklearn.ensemble import RandomForestClassifier\n",
    "from sklearn.preprocessing import StandardScaler, OrdinalEncoder\n",
    "from sklearn.metrics import f1_score, roc_auc_score, roc_curve, accuracy_score\n",
    "from sklearn.utils import shuffle\n",
    "from sklearn.model_selection import GridSearchCV\n",
    "from sklearn.dummy import DummyClassifier\n",
    "from pylab import rcParams"
   ]
  },
  {
   "cell_type": "markdown",
   "id": "9b4864d1",
   "metadata": {},
   "source": [
    "Настроим параметры для графиков"
   ]
  },
  {
   "cell_type": "code",
   "execution_count": 2,
   "id": "4c9069ca",
   "metadata": {},
   "outputs": [],
   "source": [
    "rcParams['figure.figsize'] = [10, 5]\n",
    "rcParams['legend.loc'] = 'lower right'\n",
    "rcParams['legend.fontsize'] = 14"
   ]
  },
  {
   "cell_type": "markdown",
   "id": "dce0372a",
   "metadata": {},
   "source": [
    "Создадим датафрейм с данными из предоставленного файла и посмотрим на то, с чем будем работать."
   ]
  },
  {
   "cell_type": "code",
   "execution_count": 3,
   "id": "7f871d2a",
   "metadata": {},
   "outputs": [
    {
     "name": "stdout",
     "output_type": "stream",
     "text": [
      "<class 'pandas.core.frame.DataFrame'>\n",
      "RangeIndex: 10000 entries, 0 to 9999\n",
      "Data columns (total 14 columns):\n",
      " #   Column           Non-Null Count  Dtype  \n",
      "---  ------           --------------  -----  \n",
      " 0   RowNumber        10000 non-null  int64  \n",
      " 1   CustomerId       10000 non-null  int64  \n",
      " 2   Surname          10000 non-null  object \n",
      " 3   CreditScore      10000 non-null  int64  \n",
      " 4   Geography        10000 non-null  object \n",
      " 5   Gender           10000 non-null  object \n",
      " 6   Age              10000 non-null  int64  \n",
      " 7   Tenure           9091 non-null   float64\n",
      " 8   Balance          10000 non-null  float64\n",
      " 9   NumOfProducts    10000 non-null  int64  \n",
      " 10  HasCrCard        10000 non-null  int64  \n",
      " 11  IsActiveMember   10000 non-null  int64  \n",
      " 12  EstimatedSalary  10000 non-null  float64\n",
      " 13  Exited           10000 non-null  int64  \n",
      "dtypes: float64(3), int64(8), object(3)\n",
      "memory usage: 1.1+ MB\n"
     ]
    },
    {
     "data": {
      "text/plain": [
       "(None,\n",
       "    RowNumber  CustomerId   Surname  CreditScore Geography  Gender  Age  \\\n",
       " 0          1    15634602  Hargrave          619    France  Female   42   \n",
       " 1          2    15647311      Hill          608     Spain  Female   41   \n",
       " 2          3    15619304      Onio          502    France  Female   42   \n",
       " 3          4    15701354      Boni          699    France  Female   39   \n",
       " 4          5    15737888  Mitchell          850     Spain  Female   43   \n",
       " \n",
       "    Tenure    Balance  NumOfProducts  HasCrCard  IsActiveMember  \\\n",
       " 0     2.0       0.00              1          1               1   \n",
       " 1     1.0   83807.86              1          0               1   \n",
       " 2     8.0  159660.80              3          1               0   \n",
       " 3     1.0       0.00              2          0               0   \n",
       " 4     2.0  125510.82              1          1               1   \n",
       " \n",
       "    EstimatedSalary  Exited  \n",
       " 0        101348.88       1  \n",
       " 1        112542.58       0  \n",
       " 2        113931.57       1  \n",
       " 3         93826.63       0  \n",
       " 4         79084.10       0  )"
      ]
     },
     "execution_count": 3,
     "metadata": {},
     "output_type": "execute_result"
    }
   ],
   "source": [
    "try:\n",
    "    data = pd.read_csv(\n",
    "        'C:/Users/user/Documents/DS_PROJECTS/5_____Beta_Bank/Churn.csv'\n",
    "    )\n",
    "except:\n",
    "    data = pd.read_csv('/datasets/Churn.csv')\n",
    "\n",
    "data.info(), data.head()"
   ]
  },
  {
   "cell_type": "markdown",
   "id": "70045d30",
   "metadata": {},
   "source": [
    "Можно заметить, что в столбце `Tenure` присутствуют пропуски. Посмотрим на них."
   ]
  },
  {
   "cell_type": "code",
   "execution_count": 4,
   "id": "48e05e82",
   "metadata": {},
   "outputs": [
    {
     "data": {
      "text/html": [
       "<div>\n",
       "<style scoped>\n",
       "    .dataframe tbody tr th:only-of-type {\n",
       "        vertical-align: middle;\n",
       "    }\n",
       "\n",
       "    .dataframe tbody tr th {\n",
       "        vertical-align: top;\n",
       "    }\n",
       "\n",
       "    .dataframe thead th {\n",
       "        text-align: right;\n",
       "    }\n",
       "</style>\n",
       "<table border=\"1\" class=\"dataframe\">\n",
       "  <thead>\n",
       "    <tr style=\"text-align: right;\">\n",
       "      <th></th>\n",
       "      <th>RowNumber</th>\n",
       "      <th>CustomerId</th>\n",
       "      <th>Surname</th>\n",
       "      <th>CreditScore</th>\n",
       "      <th>Geography</th>\n",
       "      <th>Gender</th>\n",
       "      <th>Age</th>\n",
       "      <th>Tenure</th>\n",
       "      <th>Balance</th>\n",
       "      <th>NumOfProducts</th>\n",
       "      <th>HasCrCard</th>\n",
       "      <th>IsActiveMember</th>\n",
       "      <th>EstimatedSalary</th>\n",
       "      <th>Exited</th>\n",
       "    </tr>\n",
       "  </thead>\n",
       "  <tbody>\n",
       "    <tr>\n",
       "      <th>30</th>\n",
       "      <td>31</td>\n",
       "      <td>15589475</td>\n",
       "      <td>Azikiwe</td>\n",
       "      <td>591</td>\n",
       "      <td>Spain</td>\n",
       "      <td>Female</td>\n",
       "      <td>39</td>\n",
       "      <td>NaN</td>\n",
       "      <td>0.00</td>\n",
       "      <td>3</td>\n",
       "      <td>1</td>\n",
       "      <td>0</td>\n",
       "      <td>140469.38</td>\n",
       "      <td>1</td>\n",
       "    </tr>\n",
       "    <tr>\n",
       "      <th>48</th>\n",
       "      <td>49</td>\n",
       "      <td>15766205</td>\n",
       "      <td>Yin</td>\n",
       "      <td>550</td>\n",
       "      <td>Germany</td>\n",
       "      <td>Male</td>\n",
       "      <td>38</td>\n",
       "      <td>NaN</td>\n",
       "      <td>103391.38</td>\n",
       "      <td>1</td>\n",
       "      <td>0</td>\n",
       "      <td>1</td>\n",
       "      <td>90878.13</td>\n",
       "      <td>0</td>\n",
       "    </tr>\n",
       "    <tr>\n",
       "      <th>51</th>\n",
       "      <td>52</td>\n",
       "      <td>15768193</td>\n",
       "      <td>Trevisani</td>\n",
       "      <td>585</td>\n",
       "      <td>Germany</td>\n",
       "      <td>Male</td>\n",
       "      <td>36</td>\n",
       "      <td>NaN</td>\n",
       "      <td>146050.97</td>\n",
       "      <td>2</td>\n",
       "      <td>0</td>\n",
       "      <td>0</td>\n",
       "      <td>86424.57</td>\n",
       "      <td>0</td>\n",
       "    </tr>\n",
       "    <tr>\n",
       "      <th>53</th>\n",
       "      <td>54</td>\n",
       "      <td>15702298</td>\n",
       "      <td>Parkhill</td>\n",
       "      <td>655</td>\n",
       "      <td>Germany</td>\n",
       "      <td>Male</td>\n",
       "      <td>41</td>\n",
       "      <td>NaN</td>\n",
       "      <td>125561.97</td>\n",
       "      <td>1</td>\n",
       "      <td>0</td>\n",
       "      <td>0</td>\n",
       "      <td>164040.94</td>\n",
       "      <td>1</td>\n",
       "    </tr>\n",
       "    <tr>\n",
       "      <th>60</th>\n",
       "      <td>61</td>\n",
       "      <td>15651280</td>\n",
       "      <td>Hunter</td>\n",
       "      <td>742</td>\n",
       "      <td>Germany</td>\n",
       "      <td>Male</td>\n",
       "      <td>35</td>\n",
       "      <td>NaN</td>\n",
       "      <td>136857.00</td>\n",
       "      <td>1</td>\n",
       "      <td>0</td>\n",
       "      <td>0</td>\n",
       "      <td>84509.57</td>\n",
       "      <td>0</td>\n",
       "    </tr>\n",
       "    <tr>\n",
       "      <th>82</th>\n",
       "      <td>83</td>\n",
       "      <td>15641732</td>\n",
       "      <td>Mills</td>\n",
       "      <td>543</td>\n",
       "      <td>France</td>\n",
       "      <td>Female</td>\n",
       "      <td>36</td>\n",
       "      <td>NaN</td>\n",
       "      <td>0.00</td>\n",
       "      <td>2</td>\n",
       "      <td>0</td>\n",
       "      <td>0</td>\n",
       "      <td>26019.59</td>\n",
       "      <td>0</td>\n",
       "    </tr>\n",
       "    <tr>\n",
       "      <th>85</th>\n",
       "      <td>86</td>\n",
       "      <td>15805254</td>\n",
       "      <td>Ndukaku</td>\n",
       "      <td>652</td>\n",
       "      <td>Spain</td>\n",
       "      <td>Female</td>\n",
       "      <td>75</td>\n",
       "      <td>NaN</td>\n",
       "      <td>0.00</td>\n",
       "      <td>2</td>\n",
       "      <td>1</td>\n",
       "      <td>1</td>\n",
       "      <td>114675.75</td>\n",
       "      <td>0</td>\n",
       "    </tr>\n",
       "    <tr>\n",
       "      <th>94</th>\n",
       "      <td>95</td>\n",
       "      <td>15676966</td>\n",
       "      <td>Capon</td>\n",
       "      <td>730</td>\n",
       "      <td>Spain</td>\n",
       "      <td>Male</td>\n",
       "      <td>42</td>\n",
       "      <td>NaN</td>\n",
       "      <td>0.00</td>\n",
       "      <td>2</td>\n",
       "      <td>0</td>\n",
       "      <td>1</td>\n",
       "      <td>85982.47</td>\n",
       "      <td>0</td>\n",
       "    </tr>\n",
       "    <tr>\n",
       "      <th>99</th>\n",
       "      <td>100</td>\n",
       "      <td>15633059</td>\n",
       "      <td>Fanucci</td>\n",
       "      <td>413</td>\n",
       "      <td>France</td>\n",
       "      <td>Male</td>\n",
       "      <td>34</td>\n",
       "      <td>NaN</td>\n",
       "      <td>0.00</td>\n",
       "      <td>2</td>\n",
       "      <td>0</td>\n",
       "      <td>0</td>\n",
       "      <td>6534.18</td>\n",
       "      <td>0</td>\n",
       "    </tr>\n",
       "    <tr>\n",
       "      <th>111</th>\n",
       "      <td>112</td>\n",
       "      <td>15665790</td>\n",
       "      <td>Rowntree</td>\n",
       "      <td>538</td>\n",
       "      <td>Germany</td>\n",
       "      <td>Male</td>\n",
       "      <td>39</td>\n",
       "      <td>NaN</td>\n",
       "      <td>108055.10</td>\n",
       "      <td>2</td>\n",
       "      <td>1</td>\n",
       "      <td>0</td>\n",
       "      <td>27231.26</td>\n",
       "      <td>0</td>\n",
       "    </tr>\n",
       "  </tbody>\n",
       "</table>\n",
       "</div>"
      ],
      "text/plain": [
       "     RowNumber  CustomerId    Surname  CreditScore Geography  Gender  Age  \\\n",
       "30          31    15589475    Azikiwe          591     Spain  Female   39   \n",
       "48          49    15766205        Yin          550   Germany    Male   38   \n",
       "51          52    15768193  Trevisani          585   Germany    Male   36   \n",
       "53          54    15702298   Parkhill          655   Germany    Male   41   \n",
       "60          61    15651280     Hunter          742   Germany    Male   35   \n",
       "82          83    15641732      Mills          543    France  Female   36   \n",
       "85          86    15805254    Ndukaku          652     Spain  Female   75   \n",
       "94          95    15676966      Capon          730     Spain    Male   42   \n",
       "99         100    15633059    Fanucci          413    France    Male   34   \n",
       "111        112    15665790   Rowntree          538   Germany    Male   39   \n",
       "\n",
       "     Tenure    Balance  NumOfProducts  HasCrCard  IsActiveMember  \\\n",
       "30      NaN       0.00              3          1               0   \n",
       "48      NaN  103391.38              1          0               1   \n",
       "51      NaN  146050.97              2          0               0   \n",
       "53      NaN  125561.97              1          0               0   \n",
       "60      NaN  136857.00              1          0               0   \n",
       "82      NaN       0.00              2          0               0   \n",
       "85      NaN       0.00              2          1               1   \n",
       "94      NaN       0.00              2          0               1   \n",
       "99      NaN       0.00              2          0               0   \n",
       "111     NaN  108055.10              2          1               0   \n",
       "\n",
       "     EstimatedSalary  Exited  \n",
       "30         140469.38       1  \n",
       "48          90878.13       0  \n",
       "51          86424.57       0  \n",
       "53         164040.94       1  \n",
       "60          84509.57       0  \n",
       "82          26019.59       0  \n",
       "85         114675.75       0  \n",
       "94          85982.47       0  \n",
       "99           6534.18       0  \n",
       "111         27231.26       0  "
      ]
     },
     "execution_count": 4,
     "metadata": {},
     "output_type": "execute_result"
    }
   ],
   "source": [
    "data.loc[data['Tenure'].isna()].head(10)"
   ]
  },
  {
   "cell_type": "markdown",
   "id": "9cb83ac5",
   "metadata": {},
   "source": [
    "Никаких определенных закономерностей появления пропусков не выявлено. Можно заполнить пропуски значением `-1`."
   ]
  },
  {
   "cell_type": "code",
   "execution_count": 5,
   "id": "616124b7",
   "metadata": {},
   "outputs": [
    {
     "data": {
      "text/plain": [
       "0"
      ]
     },
     "execution_count": 5,
     "metadata": {},
     "output_type": "execute_result"
    }
   ],
   "source": [
    "data['Tenure'].fillna(-1, inplace=True)\n",
    "data['Tenure'].isna().sum()"
   ]
  },
  {
   "cell_type": "markdown",
   "id": "a561b49c",
   "metadata": {},
   "source": [
    "От пропусков избавились. Теперь удалим столбцы, которые не несут никакой необходимой для обучения информации, так как содержат скорее лишние данные и будут мешать модели обучаться. Это столбцы `RowNumber`, `CustomerId` и `Surname`. Номер строки, уникальный идентификатор и фамилия клиента явно не влияют на то, уйдёт клиент из банка или нет."
   ]
  },
  {
   "cell_type": "code",
   "execution_count": 6,
   "id": "6b1dbfda",
   "metadata": {},
   "outputs": [],
   "source": [
    "data.drop(['RowNumber', 'CustomerId', 'Surname'], axis=1, inplace=True)"
   ]
  },
  {
   "cell_type": "markdown",
   "id": "62b1ccf3",
   "metadata": {},
   "source": [
    "Теперь сделаем проверку на наличие полных дубликатов."
   ]
  },
  {
   "cell_type": "code",
   "execution_count": 7,
   "id": "b63c2774",
   "metadata": {},
   "outputs": [
    {
     "data": {
      "text/plain": [
       "0"
      ]
     },
     "execution_count": 7,
     "metadata": {},
     "output_type": "execute_result"
    }
   ],
   "source": [
    "data.duplicated().sum()"
   ]
  },
  {
   "cell_type": "markdown",
   "id": "47d9b0d9",
   "metadata": {},
   "source": [
    "Полных дубликатов нет, что хорошо. \n",
    "\n",
    "Теперь определимся со столбцами, которые содержат категориальные значения, чтобы в дальнейшем их закодировать. Проверим уникальные значения столбцов `Geography` и `Gender`, чтобы убедиться, что их можно использовать для кодирования, а заодно посмотреть, есть ли неявные дубликаты."
   ]
  },
  {
   "cell_type": "code",
   "execution_count": 8,
   "id": "39428eda",
   "metadata": {},
   "outputs": [
    {
     "name": "stdout",
     "output_type": "stream",
     "text": [
      "France     5014\n",
      "Germany    2509\n",
      "Spain      2477\n",
      "Name: Geography, dtype: int64 \n",
      " Male      5457\n",
      "Female    4543\n",
      "Name: Gender, dtype: int64\n"
     ]
    }
   ],
   "source": [
    "print(\n",
    "    data['Geography'].value_counts(), \n",
    "    '\\n',\n",
    "    data['Gender'].value_counts()\n",
    ")"
   ]
  },
  {
   "cell_type": "markdown",
   "id": "2b800a47",
   "metadata": {},
   "source": [
    "Неявных дубликатов нет, можно приступить к кодированию. Так как мы будем использовать модель случайного леса, воспользуемся методом OrdinalEncoder, дабы минимизировать сущности."
   ]
  },
  {
   "cell_type": "code",
   "execution_count": 9,
   "id": "62d9c20a",
   "metadata": {},
   "outputs": [],
   "source": [
    "enc = OrdinalEncoder()\n",
    "data[['Geography', 'Gender']] = enc.fit_transform(data[['Geography', 'Gender']])"
   ]
  },
  {
   "cell_type": "markdown",
   "id": "fd788b57",
   "metadata": {},
   "source": [
    "Кодирование прошло успешно. Теперь разберемся с количественными признаками. Так как логистичекая регрессия будет исследоваться наравне с другими моделями, количественные признаки необходимо стандартизировать, чтобы избежать вполне ожидаемых ошибок в расчётах этой модели. \n",
    "\n",
    "Однако, чтобы избежать такой феномен как \"утечка данных\", сначала сделаем разделение датасета на обучающую, валидационную и тестовую выборки в соотношении 3:1:1. При этом целевым признаком у нас будет столбец `Exited`."
   ]
  },
  {
   "cell_type": "code",
   "execution_count": 10,
   "id": "97fea281",
   "metadata": {},
   "outputs": [
    {
     "name": "stdout",
     "output_type": "stream",
     "text": [
      "Shape of \"features_train\": (6000, 10) \n",
      "Shape of \"features_valid\": (2000, 10) \n",
      "Shape of \"features_test\": (2000, 10) \n",
      "Shape of \"target_train\": (6000,) \n",
      "Shape of \"target_valid\": (2000,) \n",
      "Shape of \"target_test\": (2000,)\n"
     ]
    }
   ],
   "source": [
    "# Разделим датафрейм на признаки и целевой признак\n",
    "features = data.drop('Exited', axis=1)\n",
    "target = data['Exited']\n",
    "\n",
    "# Разделим выборки. Используем параметр stratify, чтобы разбиение было сбалансированным\n",
    "features_train, features_valid, target_train, target_valid = train_test_split(\n",
    "    features, target, test_size=0.4, random_state=42, stratify=target)\n",
    "features_valid, features_test, target_valid, target_test = train_test_split(\n",
    "    features_valid, target_valid, test_size=0.5, random_state=42, stratify=target_valid)\n",
    "\n",
    "print(\n",
    "    'Shape of \"features_train\":', features_train.shape,\n",
    "    '\\nShape of \"features_valid\":', features_valid.shape,\n",
    "    '\\nShape of \"features_test\":', features_test.shape,\n",
    "    '\\nShape of \"target_train\":', target_train.shape,\n",
    "    '\\nShape of \"target_valid\":', target_valid.shape,\n",
    "    '\\nShape of \"target_test\":', target_test.shape\n",
    ")"
   ]
  },
  {
   "cell_type": "markdown",
   "id": "fcea8686",
   "metadata": {},
   "source": [
    "Разделение произвели. Теперь стандартизируем столбцы `CreditScore`, `Age`, `Tenure`, `Balance`, `NumOfProducts` и `EstimatedSalary` во всех выборках по отдельности с целью избегания разброса."
   ]
  },
  {
   "cell_type": "code",
   "execution_count": 11,
   "id": "c96065b1",
   "metadata": {},
   "outputs": [
    {
     "data": {
      "text/html": [
       "<div>\n",
       "<style scoped>\n",
       "    .dataframe tbody tr th:only-of-type {\n",
       "        vertical-align: middle;\n",
       "    }\n",
       "\n",
       "    .dataframe tbody tr th {\n",
       "        vertical-align: top;\n",
       "    }\n",
       "\n",
       "    .dataframe thead th {\n",
       "        text-align: right;\n",
       "    }\n",
       "</style>\n",
       "<table border=\"1\" class=\"dataframe\">\n",
       "  <thead>\n",
       "    <tr style=\"text-align: right;\">\n",
       "      <th></th>\n",
       "      <th>CreditScore</th>\n",
       "      <th>Geography</th>\n",
       "      <th>Gender</th>\n",
       "      <th>Age</th>\n",
       "      <th>Tenure</th>\n",
       "      <th>Balance</th>\n",
       "      <th>NumOfProducts</th>\n",
       "      <th>HasCrCard</th>\n",
       "      <th>IsActiveMember</th>\n",
       "      <th>EstimatedSalary</th>\n",
       "    </tr>\n",
       "  </thead>\n",
       "  <tbody>\n",
       "    <tr>\n",
       "      <th>6851</th>\n",
       "      <td>-1.283897</td>\n",
       "      <td>1.0</td>\n",
       "      <td>0.0</td>\n",
       "      <td>0.008566</td>\n",
       "      <td>1.396319</td>\n",
       "      <td>0.330105</td>\n",
       "      <td>0.783996</td>\n",
       "      <td>1</td>\n",
       "      <td>0</td>\n",
       "      <td>-0.084061</td>\n",
       "    </tr>\n",
       "    <tr>\n",
       "      <th>7026</th>\n",
       "      <td>0.271537</td>\n",
       "      <td>0.0</td>\n",
       "      <td>0.0</td>\n",
       "      <td>-1.139895</td>\n",
       "      <td>-1.679499</td>\n",
       "      <td>-1.220584</td>\n",
       "      <td>0.783996</td>\n",
       "      <td>0</td>\n",
       "      <td>1</td>\n",
       "      <td>0.264021</td>\n",
       "    </tr>\n",
       "    <tr>\n",
       "      <th>5705</th>\n",
       "      <td>-0.236571</td>\n",
       "      <td>1.0</td>\n",
       "      <td>1.0</td>\n",
       "      <td>0.104271</td>\n",
       "      <td>0.165992</td>\n",
       "      <td>1.692794</td>\n",
       "      <td>0.783996</td>\n",
       "      <td>1</td>\n",
       "      <td>1</td>\n",
       "      <td>0.515344</td>\n",
       "    </tr>\n",
       "    <tr>\n",
       "      <th>9058</th>\n",
       "      <td>-1.874962</td>\n",
       "      <td>2.0</td>\n",
       "      <td>0.0</td>\n",
       "      <td>0.869911</td>\n",
       "      <td>-1.679499</td>\n",
       "      <td>1.032566</td>\n",
       "      <td>-0.919109</td>\n",
       "      <td>1</td>\n",
       "      <td>1</td>\n",
       "      <td>0.303842</td>\n",
       "    </tr>\n",
       "    <tr>\n",
       "      <th>9415</th>\n",
       "      <td>1.215167</td>\n",
       "      <td>1.0</td>\n",
       "      <td>0.0</td>\n",
       "      <td>0.391386</td>\n",
       "      <td>-0.756754</td>\n",
       "      <td>0.851257</td>\n",
       "      <td>0.783996</td>\n",
       "      <td>0</td>\n",
       "      <td>0</td>\n",
       "      <td>-1.400817</td>\n",
       "    </tr>\n",
       "  </tbody>\n",
       "</table>\n",
       "</div>"
      ],
      "text/plain": [
       "      CreditScore  Geography  Gender       Age    Tenure   Balance  \\\n",
       "6851    -1.283897        1.0     0.0  0.008566  1.396319  0.330105   \n",
       "7026     0.271537        0.0     0.0 -1.139895 -1.679499 -1.220584   \n",
       "5705    -0.236571        1.0     1.0  0.104271  0.165992  1.692794   \n",
       "9058    -1.874962        2.0     0.0  0.869911 -1.679499  1.032566   \n",
       "9415     1.215167        1.0     0.0  0.391386 -0.756754  0.851257   \n",
       "\n",
       "      NumOfProducts  HasCrCard  IsActiveMember  EstimatedSalary  \n",
       "6851       0.783996          1               0        -0.084061  \n",
       "7026       0.783996          0               1         0.264021  \n",
       "5705       0.783996          1               1         0.515344  \n",
       "9058      -0.919109          1               1         0.303842  \n",
       "9415       0.783996          0               0        -1.400817  "
      ]
     },
     "execution_count": 11,
     "metadata": {},
     "output_type": "execute_result"
    }
   ],
   "source": [
    "cols = ['CreditScore', 'Age', 'Tenure', 'Balance', 'NumOfProducts', 'EstimatedSalary']\n",
    "pd.options.mode.chained_assignment = None\n",
    "scaler = StandardScaler()\n",
    "features_train[cols] = scaler.fit_transform(features_train[cols])\n",
    "features_valid[cols] = scaler.transform(features_valid[cols])\n",
    "features_test[cols] = scaler.transform(features_test[cols])\n",
    "features_train.head()"
   ]
  },
  {
   "cell_type": "markdown",
   "id": "3e953ff7",
   "metadata": {},
   "source": [
    "Данные готовы. Перейдём к следующему шагу исследования."
   ]
  },
  {
   "cell_type": "markdown",
   "id": "3e8496dd",
   "metadata": {},
   "source": [
    "<a id=\"disbalance\"></a>\n",
    "### Шаг 2. Исследование баланса классов, обучение модели без учёта дисбаланса."
   ]
  },
  {
   "cell_type": "markdown",
   "id": "459dd1d0",
   "metadata": {},
   "source": [
    "[в начало](#top)"
   ]
  },
  {
   "cell_type": "markdown",
   "id": "b9b75c87",
   "metadata": {},
   "source": [
    "Проверим, присутствует ли в целевом признаке дисбаланс классов."
   ]
  },
  {
   "cell_type": "code",
   "execution_count": 12,
   "id": "c999b3e1",
   "metadata": {},
   "outputs": [
    {
     "name": "stdout",
     "output_type": "stream",
     "text": [
      "Количество каждого значения в столбце \"Exited\":\n",
      " 0    0.796333\n",
      "1    0.203667\n",
      "Name: Exited, dtype: float64\n"
     ]
    }
   ],
   "source": [
    "print('Количество каждого значения в столбце \"Exited\":\\n', target_train.value_counts(normalize=True),\n",
    "     )"
   ]
  },
  {
   "cell_type": "markdown",
   "id": "c79f1e80",
   "metadata": {},
   "source": [
    "Налицо явный дисбаланс. Разница почти в 4 раза. \n",
    "\n",
    "Однако, не будем торопиться и проверим значение интересующей нас метрики при дисбалансе. Вдруг его и не придётся исправлять. Будем использовать модель случайного леса."
   ]
  },
  {
   "cell_type": "code",
   "execution_count": 13,
   "id": "cd0b0a3b",
   "metadata": {},
   "outputs": [
    {
     "name": "stdout",
     "output_type": "stream",
     "text": [
      "Значение F1: 0.5727136431784108\n"
     ]
    }
   ],
   "source": [
    "model = RandomForestClassifier(random_state=42)\n",
    "model.fit(features_train, target_train)\n",
    "f1 = f1_score(target_valid, model.predict(features_valid))\n",
    "print('Значение F1:', f1)"
   ]
  },
  {
   "cell_type": "markdown",
   "id": "8e5f1867",
   "metadata": {},
   "source": [
    "Удивительно, но F1 вышла именно такой, как требуют условия задачи. Но не будем на этом останавливаться! Посмотрим так же на метрику AUC-ROC."
   ]
  },
  {
   "cell_type": "code",
   "execution_count": 14,
   "id": "12232ef7",
   "metadata": {},
   "outputs": [
    {
     "name": "stdout",
     "output_type": "stream",
     "text": [
      "Значение AUC_ROC: 0.855374451916445\n"
     ]
    },
    {
     "data": {
      "image/png": "[encoded data removed]",
      "text/plain": [
       "<Figure size 1000x500 with 1 Axes>"
      ]
     },
     "metadata": {},
     "output_type": "display_data"
    }
   ],
   "source": [
    "# Вычислим вероятность классов\n",
    "proba_valid = model.predict_proba(features_valid)\n",
    "\n",
    "# Отберем столбец, отвечающий за вероятность того, что клиент уйдёт\n",
    "proba_valid_ones = proba_valid[:, 1]\n",
    "\n",
    "# Вычислим значение AUC-ROC\n",
    "auc_roc = roc_auc_score(target_valid, proba_valid_ones)\n",
    "print('Значение AUC_ROC:', auc_roc)\n",
    "\n",
    "# Построим ROC-кривую\n",
    "fpr, tpr, thresholds = roc_curve(target_valid, proba_valid_ones)\n",
    "plt.plot([0, 1], [0, 1], linestyle='--')\n",
    "plt.plot(fpr, tpr)\n",
    "plt.xlim([0.0, 1.0])\n",
    "plt.ylim([0.0, 1.0])\n",
    "plt.xlabel('False Positive Rate')\n",
    "plt.ylabel('True Positive Rate')\n",
    "plt.title('ROC-кривая')\n",
    "plt.grid()\n",
    "plt.show()"
   ]
  },
  {
   "cell_type": "markdown",
   "id": "c207a531",
   "metadata": {},
   "source": [
    "По графику видим, что качество модели довольно высокое. Это с учётом дисбаланса классов. Перейдём к следующему шагу."
   ]
  },
  {
   "cell_type": "markdown",
   "id": "2576c665",
   "metadata": {},
   "source": [
    "<a id=\"model\"></a>\n",
    "### Шаг 3. Улучшение качества модели."
   ]
  },
  {
   "cell_type": "markdown",
   "id": "922294fa",
   "metadata": {},
   "source": [
    "[в начало](#top)"
   ]
  },
  {
   "cell_type": "markdown",
   "id": "b1206cb6",
   "metadata": {},
   "source": [
    "Попробуем ещё повысить точность предсказания модели, убрав дисбаланс классов."
   ]
  },
  {
   "cell_type": "code",
   "execution_count": 15,
   "id": "0cac00c7",
   "metadata": {},
   "outputs": [],
   "source": [
    "# Создадим функцию, которая будет увеличивать количество единиц, попутно перемешивая данные\n",
    "def upsample(features, target, repeat):\n",
    "    features_zeros = features[target == 0]\n",
    "    features_ones = features[target == 1]\n",
    "    target_zeros = target[target == 0]\n",
    "    target_ones = target[target == 1]\n",
    "\n",
    "    features_upsampled = pd.concat([features_zeros] + [features_ones] * repeat)\n",
    "    target_upsampled = pd.concat([target_zeros] + [target_ones] * repeat)\n",
    "    \n",
    "    features_upsampled, target_upsampled = shuffle(\n",
    "        features_upsampled, target_upsampled, random_state=42)\n",
    "    \n",
    "    return features_upsampled, target_upsampled\n",
    "\n",
    "# Применим созданную функцию и получим новые значения\n",
    "features_upsampled, target_upsampled = upsample(features_train, target_train, 4)"
   ]
  },
  {
   "cell_type": "markdown",
   "id": "16ec4704",
   "metadata": {},
   "source": [
    "Проверим, что теперь классы сбалансированы."
   ]
  },
  {
   "cell_type": "code",
   "execution_count": 16,
   "id": "4f1a86e3",
   "metadata": {},
   "outputs": [
    {
     "name": "stdout",
     "output_type": "stream",
     "text": [
      "Количество каждого значения в столбце \"Exited\":\n",
      " 1    0.50569\n",
      "0    0.49431\n",
      "Name: Exited, dtype: float64\n"
     ]
    }
   ],
   "source": [
    "print('Количество каждого значения в столбце \"Exited\":\\n', \n",
    "      target_upsampled.value_counts(normalize=True),\n",
    "     )"
   ]
  },
  {
   "cell_type": "markdown",
   "id": "2a834d36",
   "metadata": {},
   "source": [
    "Отлично, классы сбалансированы. Проделаем те же шаги, что и в случае с дисбалансом: обучим модель, предскажем значения на валидационной выборке и оценим значения метрик F1 и AUC-ROC с построением ROC-кривой."
   ]
  },
  {
   "cell_type": "code",
   "execution_count": 17,
   "id": "9d839178",
   "metadata": {},
   "outputs": [
    {
     "name": "stdout",
     "output_type": "stream",
     "text": [
      "F1-мера без дисбаланса классов: 0.6097240473061761\n",
      "AUC-ROC без дисбаланса классов: 0.8549834035372943\n"
     ]
    },
    {
     "data": {
      "image/png": "[encoded data removed]",
      "text/plain": [
       "<Figure size 1000x500 with 1 Axes>"
      ]
     },
     "metadata": {},
     "output_type": "display_data"
    }
   ],
   "source": [
    "# Обучим новую модель и вычислим значение F1 меры\n",
    "model_new = RandomForestClassifier(random_state=42)\n",
    "model_new.fit(features_upsampled, target_upsampled)\n",
    "print('F1-мера без дисбаланса классов:', f1_score(target_valid, model_new.predict(features_valid)))\n",
    "\n",
    "# Вычислим значение AUC-ROC\n",
    "proba_valid_new = model_new.predict_proba(features_valid)\n",
    "proba_valid_new_ones = proba_valid_new[:, 1]\n",
    "auc_roc_new = roc_auc_score(target_valid, proba_valid_new_ones)\n",
    "print('AUC-ROC без дисбаланса классов:', auc_roc_new)\n",
    "\n",
    "# Построим на одном графике две ROC-кривые - с дисбалансом и без него\n",
    "fpr, tpr, thresholds = roc_curve(target_valid, proba_valid_ones)\n",
    "plt.plot(fpr, tpr, label='С дисбалансом классов')\n",
    "\n",
    "fpr_new, tpr_new, thresholds_new = roc_curve(target_valid, proba_valid_new_ones)\n",
    "plt.plot(fpr_new, tpr_new, label='Без дисбаланса классов')\n",
    "\n",
    "plt.plot([0, 1], [0, 1], linestyle='--')\n",
    "plt.xlabel('False Positive Rate')\n",
    "plt.ylabel('True Positive Rate')\n",
    "plt.title('ROC-кривая')\n",
    "plt.grid()\n",
    "plt.legend()\n",
    "plt.show()"
   ]
  },
  {
   "cell_type": "markdown",
   "id": "826da6df",
   "metadata": {},
   "source": [
    "Итак, можно заметить, что значение F1 меры стало чуть выше, а значение AUC-ROC несущественно снизилось. График и вовсе показал, что с дисбалансом классов модель как будто даже лучше предсказывает.\n",
    "\n",
    "Теперь проигнорируем дисбаланс и попробуем подобрать наилучшие параметры для нашей модели с помощью RandomizedSearchCV."
   ]
  },
  {
   "cell_type": "code",
   "execution_count": 18,
   "id": "a0e1db28",
   "metadata": {},
   "outputs": [
    {
     "name": "stdout",
     "output_type": "stream",
     "text": [
      "Лучшая модель: RandomForestClassifier(class_weight='balanced', criterion='entropy',\n",
      "                       max_depth=11, n_estimators=31, random_state=42)\n",
      "F1 лучшей модели RandomForest: 0.6111215293067123\n"
     ]
    }
   ],
   "source": [
    "# Сначала объединим обучающую и валидационную выборки\n",
    "features_all = pd.concat([features_train, features_valid])\n",
    "target_all = pd.concat([target_train, target_valid])\n",
    "\n",
    "# Укажем интересующие нас параметры\n",
    "params = {'max_depth': range(1, 16),\n",
    "          'criterion': ['gini', 'entropy'],\n",
    "          'class_weight': ['balanced'],\n",
    "          'n_estimators': range(1, 40, 10)\n",
    "          }\n",
    "\n",
    "# Произведем подбор лучших параметров\n",
    "grid = GridSearchCV(model, params, scoring='f1', cv=5)\n",
    "grid.fit(features_all, target_all)\n",
    "print('Лучшая модель:', grid.best_estimator_)\n",
    "print('F1 лучшей модели RandomForest:', grid.best_score_)\n",
    "\n",
    "best_model = grid.best_estimator_"
   ]
  },
  {
   "cell_type": "markdown",
   "id": "4d41222c",
   "metadata": {},
   "source": [
    "Значение F1 меры вышло даже лучше, чем при избавлении от дисбаланса. Значит, для финального тестирования будем использовать именно эту модель."
   ]
  },
  {
   "cell_type": "markdown",
   "id": "763ada99",
   "metadata": {},
   "source": [
    "<a id=\"test\"></a>\n",
    "### Шаг 4. Проведение финального тестирования."
   ]
  },
  {
   "cell_type": "markdown",
   "id": "9f0c5916",
   "metadata": {},
   "source": [
    "[в начало](#top)"
   ]
  },
  {
   "cell_type": "markdown",
   "id": "18463d7b",
   "metadata": {},
   "source": [
    "Проверим значение F1 меры на тестовой выборке."
   ]
  },
  {
   "cell_type": "code",
   "execution_count": 19,
   "id": "74ad39ac",
   "metadata": {},
   "outputs": [
    {
     "name": "stdout",
     "output_type": "stream",
     "text": [
      "F1 на тестовой выборке: 0.6379310344827587 \n",
      "Точность предсказания: 0.853\n"
     ]
    }
   ],
   "source": [
    "pred = best_model.predict(features_test)\n",
    "f1_test = f1_score(target_test, pred)\n",
    "print('F1 на тестовой выборке:', f1_test,\n",
    "      '\\nТочность предсказания:', accuracy_score(target_test, pred))"
   ]
  },
  {
   "cell_type": "markdown",
   "id": "28b18613",
   "metadata": {},
   "source": [
    "Прекрасно, на тестовой выборке модель показала себя ещё лучше!\n",
    "\n",
    "Но это может быть и ловушка... Проверим модель на адекватность."
   ]
  },
  {
   "cell_type": "code",
   "execution_count": 20,
   "id": "faffb6e3",
   "metadata": {},
   "outputs": [
    {
     "name": "stdout",
     "output_type": "stream",
     "text": [
      "Качество baseline-модели: 0.689\n"
     ]
    }
   ],
   "source": [
    "# Определим baseline-модель с помощью DummyClassifier.\n",
    "dummy_clf = DummyClassifier(strategy=\"stratified\")\n",
    "dummy_clf.fit(features_all, target_all)\n",
    "dummy_clf.predict(features_test)\n",
    "\n",
    "# Определим качество нашей baseline-модели.\n",
    "score_dummy = dummy_clf.score(features_test, target_test)\n",
    "print('Качество baseline-модели:', score_dummy)"
   ]
  },
  {
   "cell_type": "markdown",
   "id": "0970a652",
   "metadata": {},
   "source": [
    "Точность нашей модели намного выше точности baseline-модели, поэтому можно сделать вывод, что модель адекватна."
   ]
  },
  {
   "cell_type": "markdown",
   "id": "819dbe08",
   "metadata": {},
   "source": [
    "<a id=\"end\"></a>\n",
    "### Шаг 5. Общие выводы."
   ]
  },
  {
   "cell_type": "markdown",
   "id": "1051b5ce",
   "metadata": {},
   "source": [
    "[в начало](#top)"
   ]
  },
  {
   "cell_type": "markdown",
   "id": "838a13ba",
   "metadata": {},
   "source": [
    "Задача \"Построить модель для задачи классификации, которая будет давать прогноз, уйдёт клиент из банка в ближайшее время или нет\" выполненена. Модель имеетзначение F1 меры выше необходимого минимума: на тестовой выборке при предсказании было получено значение 0,6.\n",
    "\n",
    "Во время выполнения проекта было произведено следующее:\n",
    "- получены и оценены вводные данные;\n",
    "- произведена предобработка данных для более корректного использования для составления модели;\n",
    "- данные разделены на обучающую, валидационную и тестовую выборки;\n",
    "- исследовано наличие дисбаланса в данных;\n",
    "- произведено исследование качества модели случайного леса без подбора гиперпараметров и без учёта дисбаланса для решения поставленной задачи. При этом уже был получен необходимый результат, но пограничный. Его можно было улучшить;\n",
    "- произведены манипуляции с данными, убравшие дисбаланс за счёт увеличения количества строк с наименьшим классом и перемешивания;\n",
    "- исследовано качества модели без дисбаланса: модель показала лучше результат;\n",
    "- в качестве альтернативной меры улучшения модели был применен метод RandomizedSearchCV, подобравший лучшие гиперпараметры для модели даже при дисбалансе классов. Как итог: модель показала результат даже лучше, чем при первом улучшении, где дисбаланс был устранён;\n",
    "- проведено тестирование модели с лучшими гиперпараметрами на тестовой выборке: F1 мера имела значение 0.6. Необходимые условия задачи выполнены;\n",
    "- модель проверена на адекватность с помощью сравнения её с baseline-моделью, полученную с помощью метода DummyClassifier, вывод: модель адекватна и пригодна для использования, так как показала точность выше, чем у baseline-модели."
   ]
  },
  {
   "cell_type": "code",
   "execution_count": null,
   "id": "080ff990",
   "metadata": {},
   "outputs": [],
   "source": []
  }
 ],
 "metadata": {
  "ExecuteTimeLog": [
   {
    "duration": 2264,
    "start_time": "2022-12-01T18:45:03.193Z"
   },
   {
    "duration": 57,
    "start_time": "2022-12-01T18:45:05.459Z"
   },
   {
    "duration": 217,
    "start_time": "2022-12-01T18:45:05.518Z"
   },
   {
    "duration": 19,
    "start_time": "2022-12-01T18:45:05.737Z"
   },
   {
    "duration": 7,
    "start_time": "2022-12-01T18:45:05.815Z"
   },
   {
    "duration": 10,
    "start_time": "2022-12-01T18:45:05.824Z"
   },
   {
    "duration": 15,
    "start_time": "2022-12-01T18:45:05.836Z"
   },
   {
    "duration": 63,
    "start_time": "2022-12-01T18:45:05.853Z"
   },
   {
    "duration": 33,
    "start_time": "2022-12-01T18:45:05.918Z"
   },
   {
    "duration": 63,
    "start_time": "2022-12-01T18:45:05.953Z"
   },
   {
    "duration": 38,
    "start_time": "2022-12-01T18:45:06.018Z"
   },
   {
    "duration": 63,
    "start_time": "2022-12-01T18:45:06.058Z"
   },
   {
    "duration": 1592,
    "start_time": "2022-12-01T18:45:06.124Z"
   },
   {
    "duration": 418,
    "start_time": "2022-12-01T18:45:07.718Z"
   },
   {
    "duration": 14,
    "start_time": "2022-12-01T18:45:08.138Z"
   },
   {
    "duration": 69,
    "start_time": "2022-12-01T18:45:08.154Z"
   },
   {
    "duration": 2411,
    "start_time": "2022-12-01T18:45:08.226Z"
   },
   {
    "duration": 17879,
    "start_time": "2022-12-01T18:45:10.639Z"
   },
   {
    "duration": 28,
    "start_time": "2022-12-01T18:45:28.520Z"
   },
   {
    "duration": 5,
    "start_time": "2022-12-01T18:45:28.550Z"
   },
   {
    "duration": 1625,
    "start_time": "2023-02-18T12:55:52.258Z"
   },
   {
    "duration": 3,
    "start_time": "2023-02-18T12:55:53.885Z"
   },
   {
    "duration": 143,
    "start_time": "2023-02-18T12:55:53.890Z"
   },
   {
    "duration": 22,
    "start_time": "2023-02-18T12:55:54.035Z"
   },
   {
    "duration": 6,
    "start_time": "2023-02-18T12:55:54.060Z"
   },
   {
    "duration": 6,
    "start_time": "2023-02-18T12:55:54.067Z"
   },
   {
    "duration": 13,
    "start_time": "2023-02-18T12:55:54.074Z"
   },
   {
    "duration": 7,
    "start_time": "2023-02-18T12:55:54.088Z"
   },
   {
    "duration": 50,
    "start_time": "2023-02-18T12:55:54.096Z"
   },
   {
    "duration": 22,
    "start_time": "2023-02-18T12:55:54.148Z"
   },
   {
    "duration": 37,
    "start_time": "2023-02-18T12:55:54.172Z"
   },
   {
    "duration": 6,
    "start_time": "2023-02-18T12:55:54.211Z"
   },
   {
    "duration": 835,
    "start_time": "2023-02-18T12:55:54.218Z"
   },
   {
    "duration": 223,
    "start_time": "2023-02-18T12:55:55.058Z"
   },
   {
    "duration": 13,
    "start_time": "2023-02-18T12:55:55.283Z"
   },
   {
    "duration": 9,
    "start_time": "2023-02-18T12:55:55.299Z"
   },
   {
    "duration": 1420,
    "start_time": "2023-02-18T12:55:55.310Z"
   },
   {
    "duration": 7140,
    "start_time": "2023-02-18T12:55:56.739Z"
   },
   {
    "duration": 23,
    "start_time": "2023-02-18T12:56:03.881Z"
   },
   {
    "duration": 11,
    "start_time": "2023-02-18T12:56:03.906Z"
   }
  ],
  "kernelspec": {
   "display_name": "Python 3 (ipykernel)",
   "language": "python",
   "name": "python3"
  },
  "language_info": {
   "codemirror_mode": {
    "name": "ipython",
    "version": 3
   },
   "file_extension": ".py",
   "mimetype": "text/x-python",
   "name": "python",
   "nbconvert_exporter": "python",
   "pygments_lexer": "ipython3",
   "version": "3.9.13"
  },
  "toc": {
   "base_numbering": 1,
   "nav_menu": {},
   "number_sections": false,
   "sideBar": true,
   "skip_h1_title": false,
   "title_cell": "Table of Contents",
   "title_sidebar": "Contents",
   "toc_cell": false,
   "toc_position": {},
   "toc_section_display": true,
   "toc_window_display": false
  },
  "varInspector": {
   "cols": {
    "lenName": 16,
    "lenType": 16,
    "lenVar": 40
   },
   "kernels_config": {
    "python": {
     "delete_cmd_postfix": "",
     "delete_cmd_prefix": "del ",
     "library": "var_list.py",
     "varRefreshCmd": "print(var_dic_list())"
    },
    "r": {
     "delete_cmd_postfix": ") ",
     "delete_cmd_prefix": "rm(",
     "library": "var_list.r",
     "varRefreshCmd": "cat(var_dic_list()) "
    }
   },
   "types_to_exclude": [
    "module",
    "function",
    "builtin_function_or_method",
    "instance",
    "_Feature"
   ],
   "window_display": false
  }
 },
 "nbformat": 4,
 "nbformat_minor": 5
}
